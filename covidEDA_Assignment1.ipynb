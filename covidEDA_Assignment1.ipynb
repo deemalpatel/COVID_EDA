{
 "cells": [
  {
   "cell_type": "code",
   "execution_count": 1,
   "metadata": {},
   "outputs": [],
   "source": [
    "import pandas as pd\n",
    "import matplotlib.pyplot as plt\n",
    "import numpy as np\n",
    "import seaborn as sns\n",
    "from sklearn.preprocessing import MinMaxScaler\n",
    "from sklearn.preprocessing import StandardScaler"
   ]
  },
  {
   "cell_type": "code",
   "execution_count": 2,
   "metadata": {},
   "outputs": [],
   "source": [
    "covidData = pd.read_csv('https://opendata.ecdc.europa.eu/covid19/casedistribution/csv')"
   ]
  },
  {
   "cell_type": "markdown",
   "metadata": {},
   "source": [
    "# Viewing the Dataset"
   ]
  },
  {
   "cell_type": "code",
   "execution_count": 3,
   "metadata": {
    "scrolled": false
   },
   "outputs": [
    {
     "data": {
      "text/html": [
       "<div>\n",
       "<style scoped>\n",
       "    .dataframe tbody tr th:only-of-type {\n",
       "        vertical-align: middle;\n",
       "    }\n",
       "\n",
       "    .dataframe tbody tr th {\n",
       "        vertical-align: top;\n",
       "    }\n",
       "\n",
       "    .dataframe thead th {\n",
       "        text-align: right;\n",
       "    }\n",
       "</style>\n",
       "<table border=\"1\" class=\"dataframe\">\n",
       "  <thead>\n",
       "    <tr style=\"text-align: right;\">\n",
       "      <th></th>\n",
       "      <th>dateRep</th>\n",
       "      <th>year_week</th>\n",
       "      <th>cases_weekly</th>\n",
       "      <th>deaths_weekly</th>\n",
       "      <th>countriesAndTerritories</th>\n",
       "      <th>geoId</th>\n",
       "      <th>countryterritoryCode</th>\n",
       "      <th>popData2019</th>\n",
       "      <th>continentExp</th>\n",
       "      <th>notification_rate_per_100000_population_14-days</th>\n",
       "    </tr>\n",
       "  </thead>\n",
       "  <tbody>\n",
       "    <tr>\n",
       "      <th>0</th>\n",
       "      <td>11/01/2021</td>\n",
       "      <td>2021-01</td>\n",
       "      <td>675</td>\n",
       "      <td>71</td>\n",
       "      <td>Afghanistan</td>\n",
       "      <td>AF</td>\n",
       "      <td>AFG</td>\n",
       "      <td>38041757.0</td>\n",
       "      <td>Asia</td>\n",
       "      <td>4.15</td>\n",
       "    </tr>\n",
       "    <tr>\n",
       "      <th>1</th>\n",
       "      <td>04/01/2021</td>\n",
       "      <td>2020-53</td>\n",
       "      <td>902</td>\n",
       "      <td>60</td>\n",
       "      <td>Afghanistan</td>\n",
       "      <td>AF</td>\n",
       "      <td>AFG</td>\n",
       "      <td>38041757.0</td>\n",
       "      <td>Asia</td>\n",
       "      <td>7.61</td>\n",
       "    </tr>\n",
       "    <tr>\n",
       "      <th>2</th>\n",
       "      <td>28/12/2020</td>\n",
       "      <td>2020-52</td>\n",
       "      <td>1994</td>\n",
       "      <td>88</td>\n",
       "      <td>Afghanistan</td>\n",
       "      <td>AF</td>\n",
       "      <td>AFG</td>\n",
       "      <td>38041757.0</td>\n",
       "      <td>Asia</td>\n",
       "      <td>7.19</td>\n",
       "    </tr>\n",
       "    <tr>\n",
       "      <th>3</th>\n",
       "      <td>21/12/2020</td>\n",
       "      <td>2020-51</td>\n",
       "      <td>740</td>\n",
       "      <td>111</td>\n",
       "      <td>Afghanistan</td>\n",
       "      <td>AF</td>\n",
       "      <td>AFG</td>\n",
       "      <td>38041757.0</td>\n",
       "      <td>Asia</td>\n",
       "      <td>6.56</td>\n",
       "    </tr>\n",
       "    <tr>\n",
       "      <th>4</th>\n",
       "      <td>14/12/2020</td>\n",
       "      <td>2020-50</td>\n",
       "      <td>1757</td>\n",
       "      <td>71</td>\n",
       "      <td>Afghanistan</td>\n",
       "      <td>AF</td>\n",
       "      <td>AFG</td>\n",
       "      <td>38041757.0</td>\n",
       "      <td>Asia</td>\n",
       "      <td>9.01</td>\n",
       "    </tr>\n",
       "    <tr>\n",
       "      <th>5</th>\n",
       "      <td>07/12/2020</td>\n",
       "      <td>2020-49</td>\n",
       "      <td>1672</td>\n",
       "      <td>137</td>\n",
       "      <td>Afghanistan</td>\n",
       "      <td>AF</td>\n",
       "      <td>AFG</td>\n",
       "      <td>38041757.0</td>\n",
       "      <td>Asia</td>\n",
       "      <td>7.22</td>\n",
       "    </tr>\n",
       "    <tr>\n",
       "      <th>6</th>\n",
       "      <td>30/11/2020</td>\n",
       "      <td>2020-48</td>\n",
       "      <td>1073</td>\n",
       "      <td>68</td>\n",
       "      <td>Afghanistan</td>\n",
       "      <td>AF</td>\n",
       "      <td>AFG</td>\n",
       "      <td>38041757.0</td>\n",
       "      <td>Asia</td>\n",
       "      <td>6.42</td>\n",
       "    </tr>\n",
       "    <tr>\n",
       "      <th>7</th>\n",
       "      <td>23/11/2020</td>\n",
       "      <td>2020-47</td>\n",
       "      <td>1368</td>\n",
       "      <td>69</td>\n",
       "      <td>Afghanistan</td>\n",
       "      <td>AF</td>\n",
       "      <td>AFG</td>\n",
       "      <td>38041757.0</td>\n",
       "      <td>Asia</td>\n",
       "      <td>6.66</td>\n",
       "    </tr>\n",
       "    <tr>\n",
       "      <th>8</th>\n",
       "      <td>16/11/2020</td>\n",
       "      <td>2020-46</td>\n",
       "      <td>1164</td>\n",
       "      <td>61</td>\n",
       "      <td>Afghanistan</td>\n",
       "      <td>AF</td>\n",
       "      <td>AFG</td>\n",
       "      <td>38041757.0</td>\n",
       "      <td>Asia</td>\n",
       "      <td>4.65</td>\n",
       "    </tr>\n",
       "    <tr>\n",
       "      <th>9</th>\n",
       "      <td>09/11/2020</td>\n",
       "      <td>2020-45</td>\n",
       "      <td>606</td>\n",
       "      <td>24</td>\n",
       "      <td>Afghanistan</td>\n",
       "      <td>AF</td>\n",
       "      <td>AFG</td>\n",
       "      <td>38041757.0</td>\n",
       "      <td>Asia</td>\n",
       "      <td>3.70</td>\n",
       "    </tr>\n",
       "    <tr>\n",
       "      <th>9781</th>\n",
       "      <td>25/05/2020</td>\n",
       "      <td>2020-21</td>\n",
       "      <td>10</td>\n",
       "      <td>0</td>\n",
       "      <td>Zimbabwe</td>\n",
       "      <td>ZW</td>\n",
       "      <td>ZWE</td>\n",
       "      <td>14645473.0</td>\n",
       "      <td>Africa</td>\n",
       "      <td>0.14</td>\n",
       "    </tr>\n",
       "    <tr>\n",
       "      <th>9782</th>\n",
       "      <td>18/05/2020</td>\n",
       "      <td>2020-20</td>\n",
       "      <td>10</td>\n",
       "      <td>0</td>\n",
       "      <td>Zimbabwe</td>\n",
       "      <td>ZW</td>\n",
       "      <td>ZWE</td>\n",
       "      <td>14645473.0</td>\n",
       "      <td>Africa</td>\n",
       "      <td>0.08</td>\n",
       "    </tr>\n",
       "    <tr>\n",
       "      <th>9783</th>\n",
       "      <td>11/05/2020</td>\n",
       "      <td>2020-19</td>\n",
       "      <td>2</td>\n",
       "      <td>0</td>\n",
       "      <td>Zimbabwe</td>\n",
       "      <td>ZW</td>\n",
       "      <td>ZWE</td>\n",
       "      <td>14645473.0</td>\n",
       "      <td>Africa</td>\n",
       "      <td>0.03</td>\n",
       "    </tr>\n",
       "    <tr>\n",
       "      <th>9784</th>\n",
       "      <td>04/05/2020</td>\n",
       "      <td>2020-18</td>\n",
       "      <td>3</td>\n",
       "      <td>0</td>\n",
       "      <td>Zimbabwe</td>\n",
       "      <td>ZW</td>\n",
       "      <td>ZWE</td>\n",
       "      <td>14645473.0</td>\n",
       "      <td>Africa</td>\n",
       "      <td>0.06</td>\n",
       "    </tr>\n",
       "    <tr>\n",
       "      <th>9785</th>\n",
       "      <td>27/04/2020</td>\n",
       "      <td>2020-17</td>\n",
       "      <td>6</td>\n",
       "      <td>1</td>\n",
       "      <td>Zimbabwe</td>\n",
       "      <td>ZW</td>\n",
       "      <td>ZWE</td>\n",
       "      <td>14645473.0</td>\n",
       "      <td>Africa</td>\n",
       "      <td>0.12</td>\n",
       "    </tr>\n",
       "    <tr>\n",
       "      <th>9786</th>\n",
       "      <td>20/04/2020</td>\n",
       "      <td>2020-16</td>\n",
       "      <td>11</td>\n",
       "      <td>0</td>\n",
       "      <td>Zimbabwe</td>\n",
       "      <td>ZW</td>\n",
       "      <td>ZWE</td>\n",
       "      <td>14645473.0</td>\n",
       "      <td>Africa</td>\n",
       "      <td>0.11</td>\n",
       "    </tr>\n",
       "    <tr>\n",
       "      <th>9787</th>\n",
       "      <td>13/04/2020</td>\n",
       "      <td>2020-15</td>\n",
       "      <td>5</td>\n",
       "      <td>2</td>\n",
       "      <td>Zimbabwe</td>\n",
       "      <td>ZW</td>\n",
       "      <td>ZWE</td>\n",
       "      <td>14645473.0</td>\n",
       "      <td>Africa</td>\n",
       "      <td>0.05</td>\n",
       "    </tr>\n",
       "    <tr>\n",
       "      <th>9788</th>\n",
       "      <td>06/04/2020</td>\n",
       "      <td>2020-14</td>\n",
       "      <td>2</td>\n",
       "      <td>0</td>\n",
       "      <td>Zimbabwe</td>\n",
       "      <td>ZW</td>\n",
       "      <td>ZWE</td>\n",
       "      <td>14645473.0</td>\n",
       "      <td>Africa</td>\n",
       "      <td>0.05</td>\n",
       "    </tr>\n",
       "    <tr>\n",
       "      <th>9789</th>\n",
       "      <td>30/03/2020</td>\n",
       "      <td>2020-13</td>\n",
       "      <td>5</td>\n",
       "      <td>1</td>\n",
       "      <td>Zimbabwe</td>\n",
       "      <td>ZW</td>\n",
       "      <td>ZWE</td>\n",
       "      <td>14645473.0</td>\n",
       "      <td>Africa</td>\n",
       "      <td>0.05</td>\n",
       "    </tr>\n",
       "    <tr>\n",
       "      <th>9790</th>\n",
       "      <td>23/03/2020</td>\n",
       "      <td>2020-12</td>\n",
       "      <td>2</td>\n",
       "      <td>0</td>\n",
       "      <td>Zimbabwe</td>\n",
       "      <td>ZW</td>\n",
       "      <td>ZWE</td>\n",
       "      <td>14645473.0</td>\n",
       "      <td>Africa</td>\n",
       "      <td>NaN</td>\n",
       "    </tr>\n",
       "  </tbody>\n",
       "</table>\n",
       "</div>"
      ],
      "text/plain": [
       "         dateRep year_week  cases_weekly  deaths_weekly  \\\n",
       "0     11/01/2021   2021-01           675             71   \n",
       "1     04/01/2021   2020-53           902             60   \n",
       "2     28/12/2020   2020-52          1994             88   \n",
       "3     21/12/2020   2020-51           740            111   \n",
       "4     14/12/2020   2020-50          1757             71   \n",
       "5     07/12/2020   2020-49          1672            137   \n",
       "6     30/11/2020   2020-48          1073             68   \n",
       "7     23/11/2020   2020-47          1368             69   \n",
       "8     16/11/2020   2020-46          1164             61   \n",
       "9     09/11/2020   2020-45           606             24   \n",
       "9781  25/05/2020   2020-21            10              0   \n",
       "9782  18/05/2020   2020-20            10              0   \n",
       "9783  11/05/2020   2020-19             2              0   \n",
       "9784  04/05/2020   2020-18             3              0   \n",
       "9785  27/04/2020   2020-17             6              1   \n",
       "9786  20/04/2020   2020-16            11              0   \n",
       "9787  13/04/2020   2020-15             5              2   \n",
       "9788  06/04/2020   2020-14             2              0   \n",
       "9789  30/03/2020   2020-13             5              1   \n",
       "9790  23/03/2020   2020-12             2              0   \n",
       "\n",
       "     countriesAndTerritories geoId countryterritoryCode  popData2019  \\\n",
       "0                Afghanistan    AF                  AFG   38041757.0   \n",
       "1                Afghanistan    AF                  AFG   38041757.0   \n",
       "2                Afghanistan    AF                  AFG   38041757.0   \n",
       "3                Afghanistan    AF                  AFG   38041757.0   \n",
       "4                Afghanistan    AF                  AFG   38041757.0   \n",
       "5                Afghanistan    AF                  AFG   38041757.0   \n",
       "6                Afghanistan    AF                  AFG   38041757.0   \n",
       "7                Afghanistan    AF                  AFG   38041757.0   \n",
       "8                Afghanistan    AF                  AFG   38041757.0   \n",
       "9                Afghanistan    AF                  AFG   38041757.0   \n",
       "9781                Zimbabwe    ZW                  ZWE   14645473.0   \n",
       "9782                Zimbabwe    ZW                  ZWE   14645473.0   \n",
       "9783                Zimbabwe    ZW                  ZWE   14645473.0   \n",
       "9784                Zimbabwe    ZW                  ZWE   14645473.0   \n",
       "9785                Zimbabwe    ZW                  ZWE   14645473.0   \n",
       "9786                Zimbabwe    ZW                  ZWE   14645473.0   \n",
       "9787                Zimbabwe    ZW                  ZWE   14645473.0   \n",
       "9788                Zimbabwe    ZW                  ZWE   14645473.0   \n",
       "9789                Zimbabwe    ZW                  ZWE   14645473.0   \n",
       "9790                Zimbabwe    ZW                  ZWE   14645473.0   \n",
       "\n",
       "     continentExp  notification_rate_per_100000_population_14-days  \n",
       "0            Asia                                             4.15  \n",
       "1            Asia                                             7.61  \n",
       "2            Asia                                             7.19  \n",
       "3            Asia                                             6.56  \n",
       "4            Asia                                             9.01  \n",
       "5            Asia                                             7.22  \n",
       "6            Asia                                             6.42  \n",
       "7            Asia                                             6.66  \n",
       "8            Asia                                             4.65  \n",
       "9            Asia                                             3.70  \n",
       "9781       Africa                                             0.14  \n",
       "9782       Africa                                             0.08  \n",
       "9783       Africa                                             0.03  \n",
       "9784       Africa                                             0.06  \n",
       "9785       Africa                                             0.12  \n",
       "9786       Africa                                             0.11  \n",
       "9787       Africa                                             0.05  \n",
       "9788       Africa                                             0.05  \n",
       "9789       Africa                                             0.05  \n",
       "9790       Africa                                              NaN  "
      ]
     },
     "execution_count": 3,
     "metadata": {},
     "output_type": "execute_result"
    }
   ],
   "source": [
    "#Looking at the first 10 and last 10 rows to get a snapshot of what the dataset looks like\n",
    "pd.concat([covidData.head(10),covidData.tail(10)])"
   ]
  },
  {
   "cell_type": "code",
   "execution_count": 4,
   "metadata": {},
   "outputs": [
    {
     "data": {
      "text/plain": [
       "(9791, 10)"
      ]
     },
     "execution_count": 4,
     "metadata": {},
     "output_type": "execute_result"
    }
   ],
   "source": [
    "#Get a snapshot of the number of rows and columns that exist in the data set\n",
    "covidData.shape"
   ]
  },
  {
   "cell_type": "markdown",
   "metadata": {},
   "source": [
    "# Preparing the Data"
   ]
  },
  {
   "cell_type": "code",
   "execution_count": 5,
   "metadata": {},
   "outputs": [
    {
     "data": {
      "text/plain": [
       "dateRep                                              0\n",
       "year_week                                            0\n",
       "cases_weekly                                         0\n",
       "deaths_weekly                                        0\n",
       "countriesAndTerritories                              0\n",
       "geoId                                               44\n",
       "countryterritoryCode                                22\n",
       "popData2019                                         22\n",
       "continentExp                                         0\n",
       "notification_rate_per_100000_population_14-days    235\n",
       "dtype: int64"
      ]
     },
     "execution_count": 5,
     "metadata": {},
     "output_type": "execute_result"
    }
   ],
   "source": [
    "#We want to see what the total number of null values exist within our dataset\n",
    "covidData.isnull().sum()"
   ]
  },
  {
   "cell_type": "code",
   "execution_count": 6,
   "metadata": {},
   "outputs": [],
   "source": [
    "#Going to remove the rows that contain N/A values in the dataset\n",
    "covidData.dropna(inplace=True)"
   ]
  },
  {
   "cell_type": "code",
   "execution_count": 7,
   "metadata": {},
   "outputs": [
    {
     "data": {
      "text/plain": [
       "(9513, 10)"
      ]
     },
     "execution_count": 7,
     "metadata": {},
     "output_type": "execute_result"
    }
   ],
   "source": [
    "#Get a look at the new number of rows. Meaning there were 278 rows that had a N/A somewhere in the columns\n",
    "covidData.shape"
   ]
  },
  {
   "cell_type": "markdown",
   "metadata": {},
   "source": [
    "# Exploring the Data"
   ]
  },
  {
   "cell_type": "code",
   "execution_count": 8,
   "metadata": {},
   "outputs": [
    {
     "name": "stdout",
     "output_type": "stream",
     "text": [
      "<class 'pandas.core.frame.DataFrame'>\n",
      "Int64Index: 9513 entries, 0 to 9789\n",
      "Data columns (total 10 columns):\n",
      " #   Column                                           Non-Null Count  Dtype  \n",
      "---  ------                                           --------------  -----  \n",
      " 0   dateRep                                          9513 non-null   object \n",
      " 1   year_week                                        9513 non-null   object \n",
      " 2   cases_weekly                                     9513 non-null   int64  \n",
      " 3   deaths_weekly                                    9513 non-null   int64  \n",
      " 4   countriesAndTerritories                          9513 non-null   object \n",
      " 5   geoId                                            9513 non-null   object \n",
      " 6   countryterritoryCode                             9513 non-null   object \n",
      " 7   popData2019                                      9513 non-null   float64\n",
      " 8   continentExp                                     9513 non-null   object \n",
      " 9   notification_rate_per_100000_population_14-days  9513 non-null   float64\n",
      "dtypes: float64(2), int64(2), object(6)\n",
      "memory usage: 817.5+ KB\n"
     ]
    }
   ],
   "source": [
    "#We can see what sort of data types each column is. We have no null values because we dropped those rows already\n",
    "covidData.info()"
   ]
  },
  {
   "cell_type": "code",
   "execution_count": 9,
   "metadata": {},
   "outputs": [
    {
     "data": {
      "text/html": [
       "<div>\n",
       "<style scoped>\n",
       "    .dataframe tbody tr th:only-of-type {\n",
       "        vertical-align: middle;\n",
       "    }\n",
       "\n",
       "    .dataframe tbody tr th {\n",
       "        vertical-align: top;\n",
       "    }\n",
       "\n",
       "    .dataframe thead th {\n",
       "        text-align: right;\n",
       "    }\n",
       "</style>\n",
       "<table border=\"1\" class=\"dataframe\">\n",
       "  <thead>\n",
       "    <tr style=\"text-align: right;\">\n",
       "      <th></th>\n",
       "      <th>cases_weekly</th>\n",
       "      <th>deaths_weekly</th>\n",
       "      <th>popData2019</th>\n",
       "      <th>notification_rate_per_100000_population_14-days</th>\n",
       "    </tr>\n",
       "  </thead>\n",
       "  <tbody>\n",
       "    <tr>\n",
       "      <th>count</th>\n",
       "      <td>9.513000e+03</td>\n",
       "      <td>9513.000000</td>\n",
       "      <td>9.513000e+03</td>\n",
       "      <td>9513.000000</td>\n",
       "    </tr>\n",
       "    <tr>\n",
       "      <th>mean</th>\n",
       "      <td>9.436698e+03</td>\n",
       "      <td>203.956796</td>\n",
       "      <td>4.070112e+07</td>\n",
       "      <td>77.969015</td>\n",
       "    </tr>\n",
       "    <tr>\n",
       "      <th>std</th>\n",
       "      <td>5.640675e+04</td>\n",
       "      <td>939.511802</td>\n",
       "      <td>1.520623e+08</td>\n",
       "      <td>189.652189</td>\n",
       "    </tr>\n",
       "    <tr>\n",
       "      <th>min</th>\n",
       "      <td>-3.864000e+03</td>\n",
       "      <td>-875.000000</td>\n",
       "      <td>8.150000e+02</td>\n",
       "      <td>-132.600000</td>\n",
       "    </tr>\n",
       "    <tr>\n",
       "      <th>25%</th>\n",
       "      <td>1.000000e+01</td>\n",
       "      <td>0.000000</td>\n",
       "      <td>1.293120e+06</td>\n",
       "      <td>0.810000</td>\n",
       "    </tr>\n",
       "    <tr>\n",
       "      <th>50%</th>\n",
       "      <td>1.900000e+02</td>\n",
       "      <td>2.000000</td>\n",
       "      <td>7.813207e+06</td>\n",
       "      <td>7.660000</td>\n",
       "    </tr>\n",
       "    <tr>\n",
       "      <th>75%</th>\n",
       "      <td>2.523000e+03</td>\n",
       "      <td>40.000000</td>\n",
       "      <td>2.851583e+07</td>\n",
       "      <td>61.950000</td>\n",
       "    </tr>\n",
       "    <tr>\n",
       "      <th>max</th>\n",
       "      <td>1.782792e+06</td>\n",
       "      <td>22852.000000</td>\n",
       "      <td>1.433784e+09</td>\n",
       "      <td>4343.440000</td>\n",
       "    </tr>\n",
       "  </tbody>\n",
       "</table>\n",
       "</div>"
      ],
      "text/plain": [
       "       cases_weekly  deaths_weekly   popData2019  \\\n",
       "count  9.513000e+03    9513.000000  9.513000e+03   \n",
       "mean   9.436698e+03     203.956796  4.070112e+07   \n",
       "std    5.640675e+04     939.511802  1.520623e+08   \n",
       "min   -3.864000e+03    -875.000000  8.150000e+02   \n",
       "25%    1.000000e+01       0.000000  1.293120e+06   \n",
       "50%    1.900000e+02       2.000000  7.813207e+06   \n",
       "75%    2.523000e+03      40.000000  2.851583e+07   \n",
       "max    1.782792e+06   22852.000000  1.433784e+09   \n",
       "\n",
       "       notification_rate_per_100000_population_14-days  \n",
       "count                                      9513.000000  \n",
       "mean                                         77.969015  \n",
       "std                                         189.652189  \n",
       "min                                        -132.600000  \n",
       "25%                                           0.810000  \n",
       "50%                                           7.660000  \n",
       "75%                                          61.950000  \n",
       "max                                        4343.440000  "
      ]
     },
     "execution_count": 9,
     "metadata": {},
     "output_type": "execute_result"
    }
   ],
   "source": [
    "#We can look at the basic statistics of each of the columns to get a good idea of how the numbers are in each column\n",
    "covidData.describe()"
   ]
  },
  {
   "cell_type": "code",
   "execution_count": 10,
   "metadata": {
    "scrolled": false
   },
   "outputs": [
    {
     "data": {
      "text/plain": [
       "<matplotlib.axes._subplots.AxesSubplot at 0x7fcc3bed2790>"
      ]
     },
     "execution_count": 10,
     "metadata": {},
     "output_type": "execute_result"
    },
    {
     "data": {
      "image/png": "[encoded data removed]",
      "text/plain": [
       "<Figure size 432x288 with 2 Axes>"
      ]
     },
     "metadata": {
      "needs_background": "light"
     },
     "output_type": "display_data"
    }
   ],
   "source": [
    "#A correlation heatmap to see how strong each numeric column correlates with another\n",
    "sns.heatmap(covidData.corr(),annot=True)"
   ]
  },
  {
   "cell_type": "markdown",
   "metadata": {},
   "source": [
    "# Tracking the Disease"
   ]
  },
  {
   "cell_type": "code",
   "execution_count": 11,
   "metadata": {},
   "outputs": [
    {
     "data": {
      "image/png": "[encoded data removed]",
      "text/plain": [
       "<Figure size 720x720 with 1 Axes>"
      ]
     },
     "metadata": {
      "needs_background": "light"
     },
     "output_type": "display_data"
    }
   ],
   "source": [
    "#We want to see how COVID has spread therefore we generate chart and see the rise of cumulative cases from beginning of \n",
    "#2020 to present\n",
    "covidDatarev = covidData.iloc[::-1]\n",
    "df_agg = covidDatarev.groupby(['year_week']).agg({'cases_weekly':sum})\n",
    "fig, ax = plt.subplots()\n",
    "plt.xticks(rotation=90)\n",
    "ax.plot(df_agg.index, df_agg['cases_weekly'].cumsum())\n",
    "plt.xlabel('Week of the Year')\n",
    "plt.ylabel('Total Cases (in 10 Millions)')\n",
    "plt.title('Cumulative Cases per week to Present')\n",
    "plt.grid(color='r', linestyle='-', linewidth=0.25)\n",
    "fig.set_size_inches([10,10])"
   ]
  },
  {
   "cell_type": "code",
   "execution_count": 12,
   "metadata": {
    "scrolled": false
   },
   "outputs": [
    {
     "data": {
      "image/png": "[encoded data removed]",
      "text/plain": [
       "<Figure size 720x720 with 1 Axes>"
      ]
     },
     "metadata": {
      "needs_background": "light"
     },
     "output_type": "display_data"
    }
   ],
   "source": [
    "#Perform the same graph but with Deaths \n",
    "covidDatarev = covidData.iloc[::-1]\n",
    "df_agg = covidDatarev.groupby(['year_week']).agg({'deaths_weekly':sum})\n",
    "fig, ax = plt.subplots()\n",
    "plt.xticks(rotation=90)\n",
    "ax.plot(df_agg.index, df_agg['deaths_weekly'].cumsum())\n",
    "plt.xlabel('Week of the Year')\n",
    "plt.ylabel('Total Deaths (in Millions)')\n",
    "plt.title('Cumulative Death per week to Present')\n",
    "plt.grid(color='r', linestyle='-', linewidth=0.25)\n",
    "fig.set_size_inches([10,10])"
   ]
  },
  {
   "cell_type": "code",
   "execution_count": 13,
   "metadata": {},
   "outputs": [
    {
     "data": {
      "text/plain": [
       "Text(0.5, 1.0, 'Total Cases by Continent')"
      ]
     },
     "execution_count": 13,
     "metadata": {},
     "output_type": "execute_result"
    },
    {
     "data": {
      "image/png": "[encoded data removed]",
      "text/plain": [
       "<Figure size 432x288 with 1 Axes>"
      ]
     },
     "metadata": {
      "needs_background": "light"
     },
     "output_type": "display_data"
    }
   ],
   "source": [
    "#We can see how each continent has been doing in terms of cases. America seems to be spreading the fastest\n",
    "continentdf= covidData.groupby(['continentExp']).agg({'cases_weekly':sum})\n",
    "continentdf.plot(kind='bar')\n",
    "plt.ylabel('Total Cases')\n",
    "plt.title('Total Cases by Continent')"
   ]
  },
  {
   "cell_type": "code",
   "execution_count": 14,
   "metadata": {},
   "outputs": [],
   "source": [
    "#We want to see the infection rate for the week so we got the cases and divided by its population and multiplied by \n",
    "# 1 Million to get number of people per million infected for that week\n",
    "covidData['infectionRatePerWeekPerMillion'] = (covidData['cases_weekly'] / covidData['popData2019']) * 1000000"
   ]
  },
  {
   "cell_type": "code",
   "execution_count": 15,
   "metadata": {
    "scrolled": true
   },
   "outputs": [
    {
     "data": {
      "text/html": [
       "<div>\n",
       "<style scoped>\n",
       "    .dataframe tbody tr th:only-of-type {\n",
       "        vertical-align: middle;\n",
       "    }\n",
       "\n",
       "    .dataframe tbody tr th {\n",
       "        vertical-align: top;\n",
       "    }\n",
       "\n",
       "    .dataframe thead th {\n",
       "        text-align: right;\n",
       "    }\n",
       "</style>\n",
       "<table border=\"1\" class=\"dataframe\">\n",
       "  <thead>\n",
       "    <tr style=\"text-align: right;\">\n",
       "      <th></th>\n",
       "      <th>dateRep</th>\n",
       "      <th>year_week</th>\n",
       "      <th>cases_weekly</th>\n",
       "      <th>deaths_weekly</th>\n",
       "      <th>countriesAndTerritories</th>\n",
       "      <th>geoId</th>\n",
       "      <th>countryterritoryCode</th>\n",
       "      <th>popData2019</th>\n",
       "      <th>continentExp</th>\n",
       "      <th>notification_rate_per_100000_population_14-days</th>\n",
       "      <th>infectionRatePerWeekPerMillion</th>\n",
       "    </tr>\n",
       "  </thead>\n",
       "  <tbody>\n",
       "    <tr>\n",
       "      <th>0</th>\n",
       "      <td>11/01/2021</td>\n",
       "      <td>2021-01</td>\n",
       "      <td>675</td>\n",
       "      <td>71</td>\n",
       "      <td>Afghanistan</td>\n",
       "      <td>AF</td>\n",
       "      <td>AFG</td>\n",
       "      <td>38041757.0</td>\n",
       "      <td>Asia</td>\n",
       "      <td>4.15</td>\n",
       "      <td>17.743660</td>\n",
       "    </tr>\n",
       "    <tr>\n",
       "      <th>1</th>\n",
       "      <td>04/01/2021</td>\n",
       "      <td>2020-53</td>\n",
       "      <td>902</td>\n",
       "      <td>60</td>\n",
       "      <td>Afghanistan</td>\n",
       "      <td>AF</td>\n",
       "      <td>AFG</td>\n",
       "      <td>38041757.0</td>\n",
       "      <td>Asia</td>\n",
       "      <td>7.61</td>\n",
       "      <td>23.710787</td>\n",
       "    </tr>\n",
       "    <tr>\n",
       "      <th>2</th>\n",
       "      <td>28/12/2020</td>\n",
       "      <td>2020-52</td>\n",
       "      <td>1994</td>\n",
       "      <td>88</td>\n",
       "      <td>Afghanistan</td>\n",
       "      <td>AF</td>\n",
       "      <td>AFG</td>\n",
       "      <td>38041757.0</td>\n",
       "      <td>Asia</td>\n",
       "      <td>7.19</td>\n",
       "      <td>52.416086</td>\n",
       "    </tr>\n",
       "    <tr>\n",
       "      <th>3</th>\n",
       "      <td>21/12/2020</td>\n",
       "      <td>2020-51</td>\n",
       "      <td>740</td>\n",
       "      <td>111</td>\n",
       "      <td>Afghanistan</td>\n",
       "      <td>AF</td>\n",
       "      <td>AFG</td>\n",
       "      <td>38041757.0</td>\n",
       "      <td>Asia</td>\n",
       "      <td>6.56</td>\n",
       "      <td>19.452309</td>\n",
       "    </tr>\n",
       "    <tr>\n",
       "      <th>4</th>\n",
       "      <td>14/12/2020</td>\n",
       "      <td>2020-50</td>\n",
       "      <td>1757</td>\n",
       "      <td>71</td>\n",
       "      <td>Afghanistan</td>\n",
       "      <td>AF</td>\n",
       "      <td>AFG</td>\n",
       "      <td>38041757.0</td>\n",
       "      <td>Asia</td>\n",
       "      <td>9.01</td>\n",
       "      <td>46.186090</td>\n",
       "    </tr>\n",
       "    <tr>\n",
       "      <th>...</th>\n",
       "      <td>...</td>\n",
       "      <td>...</td>\n",
       "      <td>...</td>\n",
       "      <td>...</td>\n",
       "      <td>...</td>\n",
       "      <td>...</td>\n",
       "      <td>...</td>\n",
       "      <td>...</td>\n",
       "      <td>...</td>\n",
       "      <td>...</td>\n",
       "      <td>...</td>\n",
       "    </tr>\n",
       "    <tr>\n",
       "      <th>9785</th>\n",
       "      <td>27/04/2020</td>\n",
       "      <td>2020-17</td>\n",
       "      <td>6</td>\n",
       "      <td>1</td>\n",
       "      <td>Zimbabwe</td>\n",
       "      <td>ZW</td>\n",
       "      <td>ZWE</td>\n",
       "      <td>14645473.0</td>\n",
       "      <td>Africa</td>\n",
       "      <td>0.12</td>\n",
       "      <td>0.409683</td>\n",
       "    </tr>\n",
       "    <tr>\n",
       "      <th>9786</th>\n",
       "      <td>20/04/2020</td>\n",
       "      <td>2020-16</td>\n",
       "      <td>11</td>\n",
       "      <td>0</td>\n",
       "      <td>Zimbabwe</td>\n",
       "      <td>ZW</td>\n",
       "      <td>ZWE</td>\n",
       "      <td>14645473.0</td>\n",
       "      <td>Africa</td>\n",
       "      <td>0.11</td>\n",
       "      <td>0.751085</td>\n",
       "    </tr>\n",
       "    <tr>\n",
       "      <th>9787</th>\n",
       "      <td>13/04/2020</td>\n",
       "      <td>2020-15</td>\n",
       "      <td>5</td>\n",
       "      <td>2</td>\n",
       "      <td>Zimbabwe</td>\n",
       "      <td>ZW</td>\n",
       "      <td>ZWE</td>\n",
       "      <td>14645473.0</td>\n",
       "      <td>Africa</td>\n",
       "      <td>0.05</td>\n",
       "      <td>0.341402</td>\n",
       "    </tr>\n",
       "    <tr>\n",
       "      <th>9788</th>\n",
       "      <td>06/04/2020</td>\n",
       "      <td>2020-14</td>\n",
       "      <td>2</td>\n",
       "      <td>0</td>\n",
       "      <td>Zimbabwe</td>\n",
       "      <td>ZW</td>\n",
       "      <td>ZWE</td>\n",
       "      <td>14645473.0</td>\n",
       "      <td>Africa</td>\n",
       "      <td>0.05</td>\n",
       "      <td>0.136561</td>\n",
       "    </tr>\n",
       "    <tr>\n",
       "      <th>9789</th>\n",
       "      <td>30/03/2020</td>\n",
       "      <td>2020-13</td>\n",
       "      <td>5</td>\n",
       "      <td>1</td>\n",
       "      <td>Zimbabwe</td>\n",
       "      <td>ZW</td>\n",
       "      <td>ZWE</td>\n",
       "      <td>14645473.0</td>\n",
       "      <td>Africa</td>\n",
       "      <td>0.05</td>\n",
       "      <td>0.341402</td>\n",
       "    </tr>\n",
       "  </tbody>\n",
       "</table>\n",
       "<p>9513 rows × 11 columns</p>\n",
       "</div>"
      ],
      "text/plain": [
       "         dateRep year_week  cases_weekly  deaths_weekly  \\\n",
       "0     11/01/2021   2021-01           675             71   \n",
       "1     04/01/2021   2020-53           902             60   \n",
       "2     28/12/2020   2020-52          1994             88   \n",
       "3     21/12/2020   2020-51           740            111   \n",
       "4     14/12/2020   2020-50          1757             71   \n",
       "...          ...       ...           ...            ...   \n",
       "9785  27/04/2020   2020-17             6              1   \n",
       "9786  20/04/2020   2020-16            11              0   \n",
       "9787  13/04/2020   2020-15             5              2   \n",
       "9788  06/04/2020   2020-14             2              0   \n",
       "9789  30/03/2020   2020-13             5              1   \n",
       "\n",
       "     countriesAndTerritories geoId countryterritoryCode  popData2019  \\\n",
       "0                Afghanistan    AF                  AFG   38041757.0   \n",
       "1                Afghanistan    AF                  AFG   38041757.0   \n",
       "2                Afghanistan    AF                  AFG   38041757.0   \n",
       "3                Afghanistan    AF                  AFG   38041757.0   \n",
       "4                Afghanistan    AF                  AFG   38041757.0   \n",
       "...                      ...   ...                  ...          ...   \n",
       "9785                Zimbabwe    ZW                  ZWE   14645473.0   \n",
       "9786                Zimbabwe    ZW                  ZWE   14645473.0   \n",
       "9787                Zimbabwe    ZW                  ZWE   14645473.0   \n",
       "9788                Zimbabwe    ZW                  ZWE   14645473.0   \n",
       "9789                Zimbabwe    ZW                  ZWE   14645473.0   \n",
       "\n",
       "     continentExp  notification_rate_per_100000_population_14-days  \\\n",
       "0            Asia                                             4.15   \n",
       "1            Asia                                             7.61   \n",
       "2            Asia                                             7.19   \n",
       "3            Asia                                             6.56   \n",
       "4            Asia                                             9.01   \n",
       "...           ...                                              ...   \n",
       "9785       Africa                                             0.12   \n",
       "9786       Africa                                             0.11   \n",
       "9787       Africa                                             0.05   \n",
       "9788       Africa                                             0.05   \n",
       "9789       Africa                                             0.05   \n",
       "\n",
       "      infectionRatePerWeekPerMillion  \n",
       "0                          17.743660  \n",
       "1                          23.710787  \n",
       "2                          52.416086  \n",
       "3                          19.452309  \n",
       "4                          46.186090  \n",
       "...                              ...  \n",
       "9785                        0.409683  \n",
       "9786                        0.751085  \n",
       "9787                        0.341402  \n",
       "9788                        0.136561  \n",
       "9789                        0.341402  \n",
       "\n",
       "[9513 rows x 11 columns]"
      ]
     },
     "execution_count": 15,
     "metadata": {},
     "output_type": "execute_result"
    }
   ],
   "source": [
    "covidData"
   ]
  },
  {
   "cell_type": "code",
   "execution_count": 37,
   "metadata": {},
   "outputs": [
    {
     "data": {
      "image/png": "[encoded data removed]",
      "text/plain": [
       "<Figure size 432x288 with 1 Axes>"
      ]
     },
     "metadata": {
      "needs_background": "light"
     },
     "output_type": "display_data"
    }
   ],
   "source": [
    "#We want to focus on US so we got the cases for US alone for each week and see where it sped up and slowed down\n",
    "usaDF = covidData[covidData['countryterritoryCode']=='USA'].set_index('year_week')\n",
    "usaDF=usaDF.iloc[::-1]\n",
    "usaDF['cases_weekly'].plot()\n",
    "plt.xlabel('Week of the Year')\n",
    "plt.ylabel('Cases (in Millions)')\n",
    "plt.title('USA Cases per week')\n",
    "plt.grid(color='r', linestyle='-', linewidth=0.25)\n",
    "fig.set_size_inches([10,10])"
   ]
  },
  {
   "cell_type": "code",
   "execution_count": 40,
   "metadata": {},
   "outputs": [
    {
     "data": {
      "image/png": "[encoded data removed]",
      "text/plain": [
       "<Figure size 432x288 with 1 Axes>"
      ]
     },
     "metadata": {
      "needs_background": "light"
     },
     "output_type": "display_data"
    }
   ],
   "source": [
    "#Perform the same graph but analyze the deaths\n",
    "usaDF['deaths_weekly'].plot()\n",
    "plt.xlabel('Week of the Year')\n",
    "plt.ylabel('Deaths')\n",
    "plt.title('USA deaths per week')\n",
    "plt.grid(color='r', linestyle='-', linewidth=0.25)\n",
    "fig.set_size_inches([10,10])"
   ]
  },
  {
   "cell_type": "markdown",
   "metadata": {},
   "source": [
    "# Scaling the 'deaths_weekly' variable"
   ]
  },
  {
   "cell_type": "code",
   "execution_count": 16,
   "metadata": {},
   "outputs": [],
   "source": [
    "X = pd.DataFrame(covidData['deaths_weekly'])"
   ]
  },
  {
   "cell_type": "code",
   "execution_count": 26,
   "metadata": {
    "scrolled": false
   },
   "outputs": [
    {
     "name": "stderr",
     "output_type": "stream",
     "text": [
      "/Users/deemalpatel/opt/anaconda3/lib/python3.7/site-packages/seaborn/distributions.py:2557: FutureWarning: `distplot` is a deprecated function and will be removed in a future version. Please adapt your code to use either `displot` (a figure-level function with similar flexibility) or `histplot` (an axes-level function for histograms).\n",
      "  warnings.warn(msg, FutureWarning)\n"
     ]
    },
    {
     "name": "stdout",
     "output_type": "stream",
     "text": [
      "[[71]\n",
      " [60]\n",
      " [88]\n",
      " ...\n",
      " [ 2]\n",
      " [ 0]\n",
      " [ 1]]\n"
     ]
    },
    {
     "data": {
      "image/png": "[encoded data removed]",
      "text/plain": [
       "<Figure size 432x288 with 1 Axes>"
      ]
     },
     "metadata": {
      "needs_background": "light"
     },
     "output_type": "display_data"
    }
   ],
   "source": [
    "sns.distplot(X).set_title('Unscaled Dist')\n",
    "print(X.values.reshape(-1,1))"
   ]
  },
  {
   "cell_type": "code",
   "execution_count": 27,
   "metadata": {},
   "outputs": [
    {
     "name": "stderr",
     "output_type": "stream",
     "text": [
      "/Users/deemalpatel/opt/anaconda3/lib/python3.7/site-packages/seaborn/distributions.py:2557: FutureWarning: `distplot` is a deprecated function and will be removed in a future version. Please adapt your code to use either `displot` (a figure-level function with similar flexibility) or `histplot` (an axes-level function for histograms).\n",
      "  warnings.warn(msg, FutureWarning)\n"
     ]
    },
    {
     "name": "stdout",
     "output_type": "stream",
     "text": [
      "[[-0.14152434]\n",
      " [-0.15323316]\n",
      " [-0.12342888]\n",
      " ...\n",
      " [-0.2149706 ]\n",
      " [-0.21709947]\n",
      " [-0.21603503]]\n"
     ]
    },
    {
     "data": {
      "image/png": "[encoded data removed]",
      "text/plain": [
       "<Figure size 432x288 with 1 Axes>"
      ]
     },
     "metadata": {
      "needs_background": "light"
     },
     "output_type": "display_data"
    }
   ],
   "source": [
    "sns.distplot(StandardScaler().fit_transform(X.values.reshape(-1,1))).set_title('Standard Scaler Dist')\n",
    "print(StandardScaler().fit_transform(X.values.reshape(-1,1)))"
   ]
  },
  {
   "cell_type": "code",
   "execution_count": 19,
   "metadata": {},
   "outputs": [
    {
     "name": "stderr",
     "output_type": "stream",
     "text": [
      "/Users/deemalpatel/opt/anaconda3/lib/python3.7/site-packages/seaborn/distributions.py:2557: FutureWarning: `distplot` is a deprecated function and will be removed in a future version. Please adapt your code to use either `displot` (a figure-level function with similar flexibility) or `histplot` (an axes-level function for histograms).\n",
      "  warnings.warn(msg, FutureWarning)\n"
     ]
    },
    {
     "name": "stdout",
     "output_type": "stream",
     "text": [
      "[[0.03987019]\n",
      " [0.03940658]\n",
      " [0.04058667]\n",
      " ...\n",
      " [0.03696211]\n",
      " [0.03687782]\n",
      " [0.03691996]]\n"
     ]
    },
    {
     "data": {
      "image/png": "[encoded data removed]",
      "text/plain": [
       "<Figure size 432x288 with 1 Axes>"
      ]
     },
     "metadata": {
      "needs_background": "light"
     },
     "output_type": "display_data"
    }
   ],
   "source": [
    "sns.distplot(MinMaxScaler().fit_transform(X.values.reshape(-1,1))).set_title('Min-Max Scaler Dist')\n",
    "print(MinMaxScaler().fit_transform(X.values.reshape(-1,1)))"
   ]
  },
  {
   "cell_type": "code",
   "execution_count": null,
   "metadata": {},
   "outputs": [],
   "source": []
  }
 ],
 "metadata": {
  "kernelspec": {
   "display_name": "Python 3",
   "language": "python",
   "name": "python3"
  },
  "language_info": {
   "codemirror_mode": {
    "name": "ipython",
    "version": 3
   },
   "file_extension": ".py",
   "mimetype": "text/x-python",
   "name": "python",
   "nbconvert_exporter": "python",
   "pygments_lexer": "ipython3",
   "version": "3.7.6"
  }
 },
 "nbformat": 4,
 "nbformat_minor": 4
}
